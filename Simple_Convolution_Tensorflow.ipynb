{
 "cells": [
  {
   "cell_type": "code",
   "execution_count": 1,
   "id": "later-national",
   "metadata": {
    "colab": {
     "base_uri": "https://localhost:8080/"
    },
    "collapsed": true,
    "id": "MdWXRkPo0Pns",
    "jupyter": {
     "outputs_hidden": true
    },
    "outputId": "b46a0222-9b78-4d50-92c4-2e9234edaa8a"
   },
   "outputs": [
    {
     "name": "stdout",
     "output_type": "stream",
     "text": [
      "Collecting tf_geometric\n",
      "  Downloading tf_geometric-0.0.85.tar.gz (57 kB)\n",
      "\u001b[K     |████████████████████████████████| 57 kB 1.8 MB/s  eta 0:00:01\n",
      "\u001b[?25hCollecting tf_sparse>=0.0.12\n",
      "  Downloading tf_sparse-0.0.12.tar.gz (9.4 kB)\n",
      "Requirement already satisfied: numpy>=1.17.4 in /usr/local/lib/python3.7/dist-packages (from tf_geometric) (1.21.6)\n",
      "Requirement already satisfied: networkx>=2.1 in /usr/local/lib/python3.7/dist-packages (from tf_geometric) (2.6.3)\n",
      "Requirement already satisfied: scipy>=1.1.0 in /usr/local/lib/python3.7/dist-packages (from tf_geometric) (1.4.1)\n",
      "Requirement already satisfied: scikit-learn>=0.22 in /usr/local/lib/python3.7/dist-packages (from tf_geometric) (1.0.2)\n",
      "Collecting ogb_lite>=0.0.3\n",
      "  Downloading ogb_lite-0.0.3.tar.gz (25 kB)\n",
      "Requirement already satisfied: tqdm in /usr/local/lib/python3.7/dist-packages (from tf_geometric) (4.64.0)\n",
      "Requirement already satisfied: pandas>=0.24.0 in /usr/local/lib/python3.7/dist-packages (from ogb_lite>=0.0.3->tf_geometric) (1.3.5)\n",
      "Requirement already satisfied: six>=1.12.0 in /usr/local/lib/python3.7/dist-packages (from ogb_lite>=0.0.3->tf_geometric) (1.15.0)\n",
      "Requirement already satisfied: urllib3>=1.24.0 in /usr/local/lib/python3.7/dist-packages (from ogb_lite>=0.0.3->tf_geometric) (1.24.3)\n",
      "Collecting outdated>=0.2.0\n",
      "  Downloading outdated-0.2.1-py3-none-any.whl (7.5 kB)\n",
      "Requirement already satisfied: requests in /usr/local/lib/python3.7/dist-packages (from outdated>=0.2.0->ogb_lite>=0.0.3->tf_geometric) (2.23.0)\n",
      "Collecting littleutils\n",
      "  Downloading littleutils-0.2.2.tar.gz (6.6 kB)\n",
      "Requirement already satisfied: python-dateutil>=2.7.3 in /usr/local/lib/python3.7/dist-packages (from pandas>=0.24.0->ogb_lite>=0.0.3->tf_geometric) (2.8.2)\n",
      "Requirement already satisfied: pytz>=2017.3 in /usr/local/lib/python3.7/dist-packages (from pandas>=0.24.0->ogb_lite>=0.0.3->tf_geometric) (2022.1)\n",
      "Requirement already satisfied: threadpoolctl>=2.0.0 in /usr/local/lib/python3.7/dist-packages (from scikit-learn>=0.22->tf_geometric) (3.1.0)\n",
      "Requirement already satisfied: joblib>=0.11 in /usr/local/lib/python3.7/dist-packages (from scikit-learn>=0.22->tf_geometric) (1.1.0)\n",
      "Requirement already satisfied: chardet<4,>=3.0.2 in /usr/local/lib/python3.7/dist-packages (from requests->outdated>=0.2.0->ogb_lite>=0.0.3->tf_geometric) (3.0.4)\n",
      "Requirement already satisfied: idna<3,>=2.5 in /usr/local/lib/python3.7/dist-packages (from requests->outdated>=0.2.0->ogb_lite>=0.0.3->tf_geometric) (2.10)\n",
      "Requirement already satisfied: certifi>=2017.4.17 in /usr/local/lib/python3.7/dist-packages (from requests->outdated>=0.2.0->ogb_lite>=0.0.3->tf_geometric) (2021.10.8)\n",
      "Building wheels for collected packages: tf-geometric, ogb-lite, tf-sparse, littleutils\n",
      "  Building wheel for tf-geometric (setup.py) ... \u001b[?25l\u001b[?25hdone\n",
      "  Created wheel for tf-geometric: filename=tf_geometric-0.0.85-py3-none-any.whl size=83363 sha256=eec7b148374024db939f8d9a79bf444131b3c03d3f8faab390d5f5cdecbc320d\n",
      "  Stored in directory: /root/.cache/pip/wheels/69/52/e3/73712d9cc745cef103f1c8af7227b2cd6d85afc872d683c777\n",
      "  Building wheel for ogb-lite (setup.py) ... \u001b[?25l\u001b[?25hdone\n",
      "  Created wheel for ogb-lite: filename=ogb_lite-0.0.3-py3-none-any.whl size=33524 sha256=f4a851bbcb4a403ac798960b0ad4babc66b0b3a3e98cde02453899a5d0140639\n",
      "  Stored in directory: /root/.cache/pip/wheels/bb/98/b1/5d034ba69940a93aa9b8e05f6e2f630f47b045209bc3cfa210\n",
      "  Building wheel for tf-sparse (setup.py) ... \u001b[?25l\u001b[?25hdone\n",
      "  Created wheel for tf-sparse: filename=tf_sparse-0.0.12-py3-none-any.whl size=8620 sha256=ed473a96b5d177ccd22787aba1d0a49d39004e231c4209d796d89255efd08198\n",
      "  Stored in directory: /root/.cache/pip/wheels/2e/41/8f/1e133789167b6af81bb69db1407b7cd05f1d68061f581d8142\n",
      "  Building wheel for littleutils (setup.py) ... \u001b[?25l\u001b[?25hdone\n",
      "  Created wheel for littleutils: filename=littleutils-0.2.2-py3-none-any.whl size=7048 sha256=e233313a702815bc865c9e713936c2cebb6560f161632053c71bb573b492dde3\n",
      "  Stored in directory: /root/.cache/pip/wheels/d6/64/cd/32819b511a488e4993f2fab909a95330289c3f4e0f6ef4676d\n",
      "Successfully built tf-geometric ogb-lite tf-sparse littleutils\n",
      "Installing collected packages: littleutils, outdated, tf-sparse, ogb-lite, tf-geometric\n",
      "Successfully installed littleutils-0.2.2 ogb-lite-0.0.3 outdated-0.2.1 tf-geometric-0.0.85 tf-sparse-0.0.12\n"
     ]
    }
   ],
   "source": [
    "#install tf_geometric\n",
    "!pip install -U tf_geometric"
   ]
  },
  {
   "cell_type": "code",
   "execution_count": 9,
   "id": "historic-attitude",
   "metadata": {
    "colab": {
     "base_uri": "https://localhost:8080/"
    },
    "id": "ByTENX6Zrg4z",
    "outputId": "efb1b1c9-972f-44f6-cf49-32e6b9aabd30"
   },
   "outputs": [],
   "source": [
    "## Tensorflow\n",
    "import tensorflow as tf\n",
    "import tf_geometric as tfg\n",
    "import networkx as nx"
   ]
  },
  {
   "cell_type": "code",
   "execution_count": 10,
   "id": "collected-thriller",
   "metadata": {
    "id": "3d982688-bf80-427a-8b45-fe78594e49b4"
   },
   "outputs": [],
   "source": [
    "# a graph with 4 nodes\n",
    "edge_list1 = [\n",
    "              [0, 1, 1, 1, 2, 2, 3, 3], # Source Nodes\n",
    "              [1, 0, 2, 3, 1, 3, 1, 2]  # Target Nodes\n",
    "            ]\n",
    "# define the edges for the nodes. edge_list creates a list of tuples of (Source Nodes, Target Nodes) format using edge_list1\n",
    "# edge_list = [(0,1),(0,2),(0,3),(1,0),(2,0),(2,3),(3,2),(3,0)]\n",
    "\n",
    "edge_list = list(map(lambda x, y:(x,y), edge_list1[0], edge_list1[1]))\n",
    "\n",
    "# 6 Features for each node (4x6 - Number of nodes x NUmber of features)\n",
    "\n",
    "node_features = [\n",
    "                  [0,1], # Features of Node 0\n",
    "                  [2,3], # Features of Node 1\n",
    "                  [4,5], # Features of Node 2\n",
    "                  [6,7], # Features of Node 3\n",
    "                ]"
   ]
  },
  {
   "cell_type": "code",
   "execution_count": 11,
   "id": "given-george",
   "metadata": {
    "colab": {
     "base_uri": "https://localhost:8080/",
     "height": 248
    },
    "id": "a9d6579f-c5f3-4789-8bde-0dedfdd0ab89",
    "outputId": "d3282b2d-24a2-4fa8-d70b-e2ee4606d2cc"
   },
   "outputs": [
    {
     "data": {
      "image/png": "[encoded data removed]",
      "text/plain": [
       "<Figure size 432x288 with 1 Axes>"
      ]
     },
     "metadata": {},
     "output_type": "display_data"
    }
   ],
   "source": [
    "# Make a graph instance to store graph informaiton \n",
    "graph =tfg.Graph(x=node_features, edge_index=edge_list)\n",
    "\n",
    "\" Plot the graph \"\n",
    "# This graph has directed edges, therefore use 'nx.DiGraph()' for undirected edges use 'nx.Graph()'\n",
    "\n",
    "G = nx.DiGraph()\n",
    "G.add_nodes_from(range(0,graph.num_nodes))\n",
    "G.add_edges_from(graph.edge_index)\n",
    "nx.draw_networkx(G)\n"
   ]
  },
  {
   "cell_type": "markdown",
   "id": "funky-entry",
   "metadata": {
    "id": "543529dc-f470-4f39-a51c-e48ab5fa237a"
   },
   "source": [
    "# Our first convolution"
   ]
  },
  {
   "cell_type": "markdown",
   "id": "second-underwear",
   "metadata": {
    "id": "cf36bc7d-8fc7-4a5e-8e52-3de31da8560c"
   },
   "source": [
    "The convolution to be implemented, based on th GCN-Filter: Simplified Cheby-Filter involving 1-Hop Neighbors\n",
    "![Convolution](./convolution.png)\n",
    "\n",
    "where g can be any arbitrary activation function (for simplicity we will skip the activation function)"
   ]
  },
  {
   "cell_type": "code",
   "execution_count": 20,
   "id": "accepted-advance",
   "metadata": {
    "colab": {
     "base_uri": "https://localhost:8080/"
    },
    "id": "7c2d45b5-8c3c-4be8-aeb8-367b09c02031",
    "outputId": "5981c977-a6ba-4eec-8dc4-0be7cd6344f7"
   },
   "outputs": [
    {
     "name": "stdout",
     "output_type": "stream",
     "text": [
      "Node features:\n",
      " tf.Tensor(\n",
      "[[[0. 1.]\n",
      "  [2. 3.]\n",
      "  [4. 5.]\n",
      "  [6. 7.]]], shape=(1, 4, 2), dtype=float32)\n",
      "\n",
      "Adjacency matrix:\n",
      " tf.Tensor(\n",
      "[[[1. 1. 0. 0.]\n",
      "  [1. 1. 1. 1.]\n",
      "  [0. 1. 1. 1.]\n",
      "  [0. 1. 1. 1.]]], shape=(1, 4, 4), dtype=float32)\n"
     ]
    }
   ],
   "source": [
    "# Create a tensor with values from 0-7\n",
    "node_feature = tf.range(8, dtype=tf.float32)\n",
    "\n",
    "#Reshape the tensor in [1,4,2] format\n",
    "node_features = tf.reshape(node_feature,[1,4,2])\n",
    "\n",
    "adj_matrix = tf.constant([[[1, 1, 0, 0],\n",
    "                            [1, 1, 1, 1],\n",
    "                            [0, 1, 1, 1],\n",
    "                            [0, 1, 1, 1]]], dtype=tf.float32)\n",
    "\n",
    "print(\"Node features:\\n\", node_features)\n",
    "print(\"\\nAdjacency matrix:\\n\", adj_matrix)"
   ]
  },
  {
   "cell_type": "code",
   "execution_count": 21,
   "id": "juvenile-advantage",
   "metadata": {
    "id": "e1b83c57-f744-43f1-9aef-f11f844124da"
   },
   "outputs": [],
   "source": [
    "## Source: https://github.com/CrawlScript/tf_geometric\n",
    "class SimpleConvolution(tf.keras.Model): \n",
    "\n",
    "    def __init__(self, c_in, c_out):\n",
    "        super().__init__()\n",
    "\n",
    "        #Pytorch nn.linear implementation in Tensorflow \n",
    "        initializer = tf.keras.initializers.Identity() # keras initialization of the identity matrix as initial weights.\n",
    "        self.projection = tf.keras.layers.Dense(c_out, input_shape=(c_in,), activation=None,kernel_initializer=initializer) ##  y=xAT+b\n",
    "\n",
    "    def call(self, inputs):\n",
    "        node_features, adj_matrix = inputs\n",
    "        \"\"\"\n",
    "        Inputs:\n",
    "            node_features - Tensor with node features of shape [batch_size, num_nodes, c_in]\n",
    "            adj_matrix - Batch of adjacency matrices of the graph. If there is an edge from i to j, adj_matrix[b,i,j]=1 else 0.\n",
    "                         Supports directed edges by non-symmetric matrices. Assumes to already have added the identity connections.\n",
    "                         Shape: [batch_size, num_nodes, num_nodes]\n",
    "        \"\"\"\n",
    "        # Num neighbours = number of incoming edges\n",
    "        num_neighbours = tf.reduce_sum(adj_matrix,axis=2,keepdims=True)\n",
    "        print(\"Number of neighbors per node:\", num_neighbours.numpy())\n",
    "        \n",
    "        # Matrix multiplication between A (Adjacent Matrix) and B (node features)\n",
    "        node_features = self.projection(node_features) ## HW\n",
    "        node_features = tf.matmul(adj_matrix, node_features)\n",
    "        node_features = node_features/ num_neighbours\n",
    "        return node_features\n"
   ]
  },
  {
   "cell_type": "code",
   "execution_count": 22,
   "id": "powerful-selling",
   "metadata": {
    "colab": {
     "base_uri": "https://localhost:8080/"
    },
    "id": "602b2653-cd6e-4b7f-a523-eb52a6a9190f",
    "outputId": "81afc3e1-5dbd-4e23-e4e9-5ee8c58ae985"
   },
   "outputs": [
    {
     "name": "stdout",
     "output_type": "stream",
     "text": [
      "Number of neighbors per node: [[[2.]\n",
      "  [4.]\n",
      "  [3.]\n",
      "  [3.]]]\n",
      "Adjacency matrix [[[1. 1. 0. 0.]\n",
      "  [1. 1. 1. 1.]\n",
      "  [0. 1. 1. 1.]\n",
      "  [0. 1. 1. 1.]]]\n",
      "Input features [[[0. 1.]\n",
      "  [2. 3.]\n",
      "  [4. 5.]\n",
      "  [6. 7.]]]\n",
      "Output features [[[1. 2.]\n",
      "  [3. 4.]\n",
      "  [4. 5.]\n",
      "  [4. 5.]]]\n"
     ]
    }
   ],
   "source": [
    "layer = SimpleConvolution(c_in=2, c_out=2)\n",
    "out_features = layer([node_features, adj_matrix])\n",
    "\n",
    "print(\"Adjacency matrix\", adj_matrix.numpy())\n",
    "print(\"Input features\", node_features.numpy())\n",
    "print(\"Output features\", out_features.numpy())\n"
   ]
  },
  {
   "cell_type": "markdown",
   "id": "pretty-digit",
   "metadata": {
    "id": "194921be-77cc-47df-94b0-62d6482775b1"
   },
   "source": [
    "## Final remarks\n",
    "\n",
    "1. This can be seeing as the aggregation of 1-hop neighbors\n",
    "2. We can stack this type of convolution to aggregate information from k-hop neighbors\n",
    "3. We need to be careful because k increases the inputs of a node overlap with other nodes, smoothing too much the result"
   ]
  }
 ],
 "metadata": {
  "colab": {
   "collapsed_sections": [],
   "name": "SimpleConvolution-Tensorflow.ipynb",
   "provenance": []
  },
  "kernelspec": {
   "display_name": "Python 3 (ipykernel)",
   "language": "python",
   "name": "python3"
  },
  "language_info": {
   "codemirror_mode": {
    "name": "ipython",
    "version": 3
   },
   "file_extension": ".py",
   "mimetype": "text/x-python",
   "name": "python",
   "nbconvert_exporter": "python",
   "pygments_lexer": "ipython3",
   "version": "3.8.0"
  }
 },
 "nbformat": 4,
 "nbformat_minor": 5
}
