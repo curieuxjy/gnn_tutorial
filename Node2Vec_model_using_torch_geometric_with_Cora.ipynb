{
 "cells": [
  {
   "cell_type": "code",
   "execution_count": 2,
   "metadata": {
    "colab": {
     "base_uri": "https://localhost:8080/"
    },
    "collapsed": true,
    "id": "gpLKciX5FR69",
    "jupyter": {
     "outputs_hidden": true
    },
    "outputId": "6b92c1b2-d684-4394-b77e-4d27944565f6"
   },
   "outputs": [
    {
     "name": "stdout",
     "output_type": "stream",
     "text": [
      "Looking in links: https://data.pyg.org/whl/torch-1.11.0+cpu.html\n",
      "Collecting torch-scatter\n",
      "  Using cached https://data.pyg.org/whl/torch-1.11.0%2Bcpu/torch_scatter-2.0.9-cp38-cp38-macosx_10_14_x86_64.whl (303 kB)\n",
      "Installing collected packages: torch-scatter\n",
      "Successfully installed torch-scatter-2.0.9\n",
      "Looking in links: https://data.pyg.org/whl/torch-1.11.0+cpu.html\n",
      "Collecting torch-sparse\n",
      "  Using cached https://data.pyg.org/whl/torch-1.11.0%2Bcpu/torch_sparse-0.6.13-cp38-cp38-macosx_10_14_x86_64.whl (636 kB)\n",
      "Requirement already satisfied: scipy in /Users/jjava/opt/anaconda3/envs/AGC/lib/python3.8/site-packages (from torch-sparse) (1.6.0)\n",
      "Requirement already satisfied: numpy>=1.16.5 in /Users/jjava/opt/anaconda3/envs/AGC/lib/python3.8/site-packages (from scipy->torch-sparse) (1.19.5)\n",
      "Installing collected packages: torch-sparse\n",
      "Successfully installed torch-sparse-0.6.13\n",
      "Looking in links: https://data.pyg.org/whl/torch-1.11.0+cpu.html\n",
      "Collecting torch-cluster\n",
      "  Downloading https://data.pyg.org/whl/torch-1.11.0%2Bcpu/torch_cluster-1.6.0-cp38-cp38-macosx_10_14_x86_64.whl (298 kB)\n",
      "\u001b[K     |████████████████████████████████| 298 kB 1.4 MB/s eta 0:00:01\n",
      "\u001b[?25hInstalling collected packages: torch-cluster\n",
      "Successfully installed torch-cluster-1.6.0\n",
      "Collecting torch-geometric\n",
      "  Using cached torch_geometric-2.0.4-py3-none-any.whl\n",
      "Requirement already satisfied: scipy in /Users/jjava/opt/anaconda3/envs/AGC/lib/python3.8/site-packages (from torch-geometric) (1.6.0)\n",
      "Requirement already satisfied: scikit-learn in /Users/jjava/opt/anaconda3/envs/AGC/lib/python3.8/site-packages (from torch-geometric) (0.22.1)\n",
      "Requirement already satisfied: pyparsing in /Users/jjava/opt/anaconda3/envs/AGC/lib/python3.8/site-packages (from torch-geometric) (2.4.7)\n",
      "Requirement already satisfied: numpy in /Users/jjava/opt/anaconda3/envs/AGC/lib/python3.8/site-packages (from torch-geometric) (1.19.5)\n",
      "Requirement already satisfied: tqdm in /Users/jjava/opt/anaconda3/envs/AGC/lib/python3.8/site-packages (from torch-geometric) (4.57.0)\n",
      "Requirement already satisfied: requests in /Users/jjava/opt/anaconda3/envs/AGC/lib/python3.8/site-packages (from torch-geometric) (2.25.1)\n",
      "Requirement already satisfied: jinja2 in /Users/jjava/opt/anaconda3/envs/AGC/lib/python3.8/site-packages (from torch-geometric) (2.11.3)\n",
      "Requirement already satisfied: pandas in /Users/jjava/opt/anaconda3/envs/AGC/lib/python3.8/site-packages (from torch-geometric) (1.1.3)\n",
      "Requirement already satisfied: MarkupSafe>=0.23 in /Users/jjava/opt/anaconda3/envs/AGC/lib/python3.8/site-packages (from jinja2->torch-geometric) (1.1.1)\n",
      "Requirement already satisfied: pytz>=2017.2 in /Users/jjava/opt/anaconda3/envs/AGC/lib/python3.8/site-packages (from pandas->torch-geometric) (2021.1)\n",
      "Requirement already satisfied: python-dateutil>=2.7.3 in /Users/jjava/opt/anaconda3/envs/AGC/lib/python3.8/site-packages (from pandas->torch-geometric) (2.8.1)\n",
      "Requirement already satisfied: six>=1.5 in /Users/jjava/opt/anaconda3/envs/AGC/lib/python3.8/site-packages (from python-dateutil>=2.7.3->pandas->torch-geometric) (1.15.0)\n",
      "Requirement already satisfied: certifi>=2017.4.17 in /Users/jjava/opt/anaconda3/envs/AGC/lib/python3.8/site-packages (from requests->torch-geometric) (2021.10.8)\n",
      "Requirement already satisfied: urllib3<1.27,>=1.21.1 in /Users/jjava/opt/anaconda3/envs/AGC/lib/python3.8/site-packages (from requests->torch-geometric) (1.26.3)\n",
      "Requirement already satisfied: chardet<5,>=3.0.2 in /Users/jjava/opt/anaconda3/envs/AGC/lib/python3.8/site-packages (from requests->torch-geometric) (3.0.4)\n",
      "Requirement already satisfied: idna<3,>=2.5 in /Users/jjava/opt/anaconda3/envs/AGC/lib/python3.8/site-packages (from requests->torch-geometric) (2.10)\n",
      "Requirement already satisfied: joblib>=0.11 in /Users/jjava/opt/anaconda3/envs/AGC/lib/python3.8/site-packages (from scikit-learn->torch-geometric) (1.0.0)\n",
      "Installing collected packages: torch-geometric\n",
      "Successfully installed torch-geometric-2.0.4\n"
     ]
    }
   ],
   "source": [
    "!pip install torch-scatter -f https://data.pyg.org/whl/torch-1.11.0+cpu.html\n",
    "!pip install torch-sparse -f https://data.pyg.org/whl/torch-1.11.0+cpu.html\n",
    "!pip install torch-cluster -f https://data.pyg.org/whl/torch-1.11.0+cpu.html\n",
    "!pip install torch-geometric"
   ]
  },
  {
   "cell_type": "code",
   "execution_count": 3,
   "metadata": {
    "id": "YUAPetZAFJFV"
   },
   "outputs": [],
   "source": [
    "import torch\n",
    "from torch_geometric.datasets import Planetoid # The citation network datasets “Cora”, “CiteSeer” and “PubMed” \n",
    "from torch_geometric.nn import Node2Vec # Import Node2Vec Model\n",
    "from sklearn.manifold import TSNE\n",
    "import matplotlib.pyplot as plt"
   ]
  },
  {
   "cell_type": "code",
   "execution_count": 4,
   "metadata": {
    "colab": {
     "base_uri": "https://localhost:8080/"
    },
    "id": "1RVcQEuAF-_G",
    "outputId": "937a5f19-ee83-456c-b1c0-2d7a9930de61"
   },
   "outputs": [
    {
     "name": "stderr",
     "output_type": "stream",
     "text": [
      "Downloading https://github.com/kimiyoung/planetoid/raw/master/data/ind.cora.x\n",
      "Downloading https://github.com/kimiyoung/planetoid/raw/master/data/ind.cora.tx\n",
      "Downloading https://github.com/kimiyoung/planetoid/raw/master/data/ind.cora.allx\n",
      "Downloading https://github.com/kimiyoung/planetoid/raw/master/data/ind.cora.y\n",
      "Downloading https://github.com/kimiyoung/planetoid/raw/master/data/ind.cora.ty\n",
      "Downloading https://github.com/kimiyoung/planetoid/raw/master/data/ind.cora.ally\n",
      "Downloading https://github.com/kimiyoung/planetoid/raw/master/data/ind.cora.graph\n",
      "Downloading https://github.com/kimiyoung/planetoid/raw/master/data/ind.cora.test.index\n",
      "Processing...\n",
      "Done!\n"
     ]
    },
    {
     "name": "stdout",
     "output_type": "stream",
     "text": [
      "Coda:  Data(x=[2708, 1433], edge_index=[2, 10556], y=[2708], train_mask=[2708], val_mask=[2708], test_mask=[2708])\n"
     ]
    }
   ],
   "source": [
    "# IMPORT DATA\n",
    "path = \"./\"  # Directory to download dataset\n",
    "dataset = Planetoid(path, \"Cora\") # Download the dataset\n",
    "data = dataset[0] # Tensor representation of the Cora-Planetoid data\n",
    "print('Coda: ', data)\n",
    "\n",
    "device = 'cuda' if torch.cuda.is_available() else 'cpu'"
   ]
  },
  {
   "cell_type": "code",
   "execution_count": 5,
   "metadata": {
    "colab": {
     "base_uri": "https://localhost:8080/"
    },
    "id": "37IcY1SVIYcT",
    "outputId": "183197bd-ff21-4160-d0c1-ab9819bbce0d"
   },
   "outputs": [],
   "source": [
    "# CONSTRUCT THE MODEL \n",
    "Node2Vec_model = Node2Vec(data.edge_index, embedding_dim=128, walk_length=20,\n",
    "                     context_size=10, walks_per_node=10,\n",
    "                     num_negative_samples=1, p=1, q=1, sparse=True).to(device)\n",
    "\n",
    "loader = Node2Vec_model.loader(batch_size=128, shuffle=True, num_workers=4) # For batch training\n",
    "optimizer = torch.optim.SparseAdam(list(Node2Vec_model.parameters()), #List of parameters\n",
    "                                   lr = 0.01 # Learning Rate\n",
    "                                   )"
   ]
  },
  {
   "cell_type": "code",
   "execution_count": 8,
   "metadata": {
    "id": "EjpmbiH6IgYy"
   },
   "outputs": [],
   "source": [
    "# TRAIN FUNCTION \n",
    "def train():\n",
    "    Node2Vec_model.train() # Set training as true for the model\n",
    "    total_loss = 0\n",
    "    for pos_rw, neg_rw in loader:\n",
    "        optimizer.zero_grad() # reset of gradient of all variables\n",
    "        loss = Node2Vec_model.loss(pos_rw , neg_rw) #compute the loss\n",
    "        loss.backward() #update the gradient\n",
    "        optimizer.step() \n",
    "        total_loss =+ loss.item()\n",
    "    return total_loss / len(loader) "
   ]
  },
  {
   "cell_type": "code",
   "execution_count": 9,
   "metadata": {
    "colab": {
     "base_uri": "https://localhost:8080/",
     "height": 438
    },
    "id": "C793y172ImOE",
    "outputId": "574dcdbf-523c-4f75-da5d-77953ff936fd"
   },
   "outputs": [
    {
     "name": "stdout",
     "output_type": "stream",
     "text": [
      "Epoch: 01, Loss: 0.0377\n",
      "Epoch: 02, Loss: 0.0384\n",
      "Epoch: 03, Loss: 0.0377\n",
      "Epoch: 04, Loss: 0.0375\n",
      "Epoch: 05, Loss: 0.0372\n",
      "Epoch: 06, Loss: 0.0387\n",
      "Epoch: 07, Loss: 0.0380\n",
      "Epoch: 08, Loss: 0.0383\n",
      "Epoch: 09, Loss: 0.0383\n"
     ]
    }
   ],
   "source": [
    "# GET EMBEDDING \n",
    "\n",
    "for epoch in range(1, 10):\n",
    "    loss = train()\n",
    "    print(f'Epoch: {epoch:02d}, Loss: {loss:.4f}')"
   ]
  },
  {
   "cell_type": "code",
   "execution_count": 10,
   "metadata": {
    "id": "IxRY3TFpIsdz"
   },
   "outputs": [
    {
     "data": {
      "image/png": "[encoded data removed]",
      "text/plain": [
       "<Figure size 432x288 with 1 Axes>"
      ]
     },
     "metadata": {
      "needs_background": "light"
     },
     "output_type": "display_data"
    }
   ],
   "source": [
    "# PLOT 2D OF EMBEDDED REP \n",
    "@torch.no_grad() # Deactivate autograd functionality\n",
    "def plot_point(colors):\n",
    "    Node2Vec_model.eval() # Evaluate the model based on the trained parameters\n",
    "    z = Node2Vec_model(torch.arange(data.num_nodes, device=device)) # Embedding rep\n",
    "    z = TSNE(n_components=2).fit_transform(z.cpu().numpy())\n",
    "    y = data.y.cpu().numpy()\n",
    "    plt.figure()\n",
    "    for i in range(dataset.num_classes):\n",
    "        plt.scatter(z[y==i,0],z[y==i,1],s=20,color=colors[i])\n",
    "    plt.axis('off')\n",
    "    plt.show()\n",
    "colors = [\n",
    "        '#ffc0cb', '#bada55', '#008080', '#420420', '#7fe5f0', '#065535',\n",
    "        '#ffd700'\n",
    "    ]\n",
    "plot_point(colors)"
   ]
  },
  {
   "cell_type": "code",
   "execution_count": 11,
   "metadata": {
    "id": "JKEdG05kEjCr"
   },
   "outputs": [
    {
     "name": "stdout",
     "output_type": "stream",
     "text": [
      "Accuracy: 0.715\n"
     ]
    }
   ],
   "source": [
    "# NODE CLASSIFICATION\n",
    "def test():\n",
    "    Node2Vec_model.eval() # Evaluate the model based on the trained parameters\n",
    "    z = Node2Vec_model() # Evaluate the model based on the trained parameters\n",
    "    acc = Node2Vec_model.test(z[data.train_mask] ,data.y[data.train_mask],\n",
    "                              z[data.test_mask],data.y[data.test_mask],\n",
    "                              max_iter=150)\n",
    "    return acc\n",
    "\n",
    "print('Accuracy:', test())"
   ]
  },
  {
   "cell_type": "code",
   "execution_count": null,
   "metadata": {},
   "outputs": [],
   "source": [
    "#From https://pytorch-geometric.readthedocs.io/en/latest/_modules/torch_geometric/nn/models/node2vec.html\n",
    "def test(self, train_z, train_y, test_z, test_y, solver='lbfgs',\n",
    "             multi_class='auto', *args, **kwargs):\n",
    "        r\"\"\"Evaluates latent space quality via a logistic regression downstream\n",
    "        task.\"\"\"\n",
    "        from sklearn.linear_model import LogisticRegression\n",
    "\n",
    "        clf = LogisticRegression(solver=solver, multi_class=multi_class, *args,\n",
    "                                 **kwargs).fit(train_z.detach().cpu().numpy(),\n",
    "                                               train_y.detach().cpu().numpy())\n",
    "        return clf.score(test_z.detach().cpu().numpy(),\n",
    "                         test_y.detach().cpu().numpy())"
   ]
  }
 ],
 "metadata": {
  "accelerator": "GPU",
  "colab": {
   "collapsed_sections": [],
   "name": "Node2Vec model using torch geometric with Cora_some errors.ipynb",
   "provenance": []
  },
  "kernelspec": {
   "display_name": "Python 3",
   "language": "python",
   "name": "python3"
  },
  "language_info": {
   "codemirror_mode": {
    "name": "ipython",
    "version": 3
   },
   "file_extension": ".py",
   "mimetype": "text/x-python",
   "name": "python",
   "nbconvert_exporter": "python",
   "pygments_lexer": "ipython3",
   "version": "3.8.5"
  }
 },
 "nbformat": 4,
 "nbformat_minor": 4
}
