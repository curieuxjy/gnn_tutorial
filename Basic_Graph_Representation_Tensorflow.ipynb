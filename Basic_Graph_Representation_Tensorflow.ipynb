{
 "cells": [
  {
   "cell_type": "markdown",
   "metadata": {
    "id": "KwrAFWcMWFx-",
    "jupyter": {
     "outputs_hidden": true
    },
    "outputId": "c1ec1d7d-8a3c-4473-9102-bdeea92a88aa",
    "tags": []
   },
   "source": [
    "# Basic Graph Representation with Tensorflow and NetworkX"
   ]
  },
  {
   "cell_type": "code",
   "execution_count": 8,
   "metadata": {
    "colab": {
     "base_uri": "https://localhost:8080/"
    },
    "collapsed": true,
    "id": "5RkZNd4Va4fJ",
    "jupyter": {
     "outputs_hidden": true
    },
    "outputId": "7e679cbc-6881-4953-d731-d80751b6c902"
   },
   "outputs": [
    {
     "name": "stderr",
     "output_type": "stream",
     "text": [
      "/Users/jjava/opt/anaconda3/envs/AGC/lib/python3.8/site-packages/ipykernel/ipkernel.py:287: DeprecationWarning: `should_run_async` will not call `transform_cell` automatically in the future. Please pass the result to `transformed_cell` argument and any exception that happen during thetransform in `preprocessing_exc_tuple` in IPython 7.17 and above.\n",
      "  and should_run_async(code)\n"
     ]
    },
    {
     "name": "stdout",
     "output_type": "stream",
     "text": [
      "Requirement already satisfied: tf_geometric in /Users/jjava/opt/anaconda3/envs/AGC/lib/python3.8/site-packages (0.0.85)\n",
      "Requirement already satisfied: ogb-lite>=0.0.3 in /Users/jjava/opt/anaconda3/envs/AGC/lib/python3.8/site-packages (from tf_geometric) (0.0.3)\n",
      "Requirement already satisfied: numpy>=1.17.4 in /Users/jjava/opt/anaconda3/envs/AGC/lib/python3.8/site-packages (from tf_geometric) (1.22.3)\n",
      "Requirement already satisfied: tf-sparse>=0.0.12 in /Users/jjava/opt/anaconda3/envs/AGC/lib/python3.8/site-packages (from tf_geometric) (0.0.12)\n",
      "Requirement already satisfied: scipy>=1.1.0 in /Users/jjava/opt/anaconda3/envs/AGC/lib/python3.8/site-packages (from tf_geometric) (1.6.0)\n",
      "Requirement already satisfied: scikit-learn>=0.22 in /Users/jjava/opt/anaconda3/envs/AGC/lib/python3.8/site-packages (from tf_geometric) (0.22.1)\n",
      "Requirement already satisfied: networkx>=2.1 in /Users/jjava/opt/anaconda3/envs/AGC/lib/python3.8/site-packages (from tf_geometric) (2.8)\n",
      "Requirement already satisfied: tqdm in /Users/jjava/opt/anaconda3/envs/AGC/lib/python3.8/site-packages (from tf_geometric) (4.57.0)\n",
      "Requirement already satisfied: urllib3>=1.24.0 in /Users/jjava/opt/anaconda3/envs/AGC/lib/python3.8/site-packages (from ogb-lite>=0.0.3->tf_geometric) (1.26.3)\n",
      "Requirement already satisfied: six>=1.12.0 in /Users/jjava/opt/anaconda3/envs/AGC/lib/python3.8/site-packages (from ogb-lite>=0.0.3->tf_geometric) (1.15.0)\n",
      "Requirement already satisfied: pandas>=0.24.0 in /Users/jjava/opt/anaconda3/envs/AGC/lib/python3.8/site-packages (from ogb-lite>=0.0.3->tf_geometric) (1.4.2)\n",
      "Requirement already satisfied: outdated>=0.2.0 in /Users/jjava/opt/anaconda3/envs/AGC/lib/python3.8/site-packages (from ogb-lite>=0.0.3->tf_geometric) (0.2.1)\n",
      "Requirement already satisfied: littleutils in /Users/jjava/opt/anaconda3/envs/AGC/lib/python3.8/site-packages (from outdated>=0.2.0->ogb-lite>=0.0.3->tf_geometric) (0.2.2)\n",
      "Requirement already satisfied: requests in /Users/jjava/opt/anaconda3/envs/AGC/lib/python3.8/site-packages (from outdated>=0.2.0->ogb-lite>=0.0.3->tf_geometric) (2.25.1)\n",
      "Requirement already satisfied: pytz>=2020.1 in /Users/jjava/opt/anaconda3/envs/AGC/lib/python3.8/site-packages (from pandas>=0.24.0->ogb-lite>=0.0.3->tf_geometric) (2021.1)\n",
      "Requirement already satisfied: python-dateutil>=2.8.1 in /Users/jjava/opt/anaconda3/envs/AGC/lib/python3.8/site-packages (from pandas>=0.24.0->ogb-lite>=0.0.3->tf_geometric) (2.8.2)\n",
      "Requirement already satisfied: joblib>=0.11 in /Users/jjava/opt/anaconda3/envs/AGC/lib/python3.8/site-packages (from scikit-learn>=0.22->tf_geometric) (1.0.0)\n",
      "Requirement already satisfied: certifi>=2017.4.17 in /Users/jjava/opt/anaconda3/envs/AGC/lib/python3.8/site-packages (from requests->outdated>=0.2.0->ogb-lite>=0.0.3->tf_geometric) (2021.10.8)\n",
      "Requirement already satisfied: idna<3,>=2.5 in /Users/jjava/opt/anaconda3/envs/AGC/lib/python3.8/site-packages (from requests->outdated>=0.2.0->ogb-lite>=0.0.3->tf_geometric) (2.10)\n",
      "Requirement already satisfied: chardet<5,>=3.0.2 in /Users/jjava/opt/anaconda3/envs/AGC/lib/python3.8/site-packages (from requests->outdated>=0.2.0->ogb-lite>=0.0.3->tf_geometric) (3.0.4)\n"
     ]
    }
   ],
   "source": [
    "!pip install -U tf_geometric"
   ]
  },
  {
   "cell_type": "code",
   "execution_count": 11,
   "metadata": {
    "colab": {
     "base_uri": "https://localhost:8080/"
    },
    "id": "v5TepoMtYHMC",
    "outputId": "bbfd2248-b242-4dd0-dc3d-0af041bd2f07"
   },
   "outputs": [],
   "source": [
    "import tensorflow as tf\n",
    "import tf_geometric as tfg\n",
    "import networkx as nx"
   ]
  },
  {
   "cell_type": "code",
   "execution_count": 12,
   "metadata": {
    "colab": {
     "base_uri": "https://localhost:8080/",
     "height": 321
    },
    "id": "N9ibgmvzVM8a",
    "outputId": "ea01b450-6312-4784-c380-edd85c0bbe6a"
   },
   "outputs": [
    {
     "name": "stdout",
     "output_type": "stream",
     "text": [
      "Number of nodes:  4\n",
      "Number of edges:  2\n",
      "Number of features per node (Length of feature vector):  6 \n",
      "\n"
     ]
    },
    {
     "data": {
      "image/png": "[encoded data removed]",
      "text/plain": [
       "<Figure size 432x288 with 1 Axes>"
      ]
     },
     "metadata": {},
     "output_type": "display_data"
    }
   ],
   "source": [
    "\n",
    "\" Define a graph \"\n",
    "\n",
    "# a graph with 4 nodes\n",
    "\n",
    "edge_list = [\n",
    "              [0, 0, 0, 1, 2, 2, 3, 3], # Source Nodes\n",
    "              [1, 2, 3, 0, 0, 3, 2, 0]  # Target Nodes\n",
    "            ]\n",
    "# define the edges for the nodes. edge_list1 creates a list of tuples of (Source Nodes, Target Nodes) format using edge_list\n",
    "# edge_list1 = [(0,1),(0,2),(0,3),(1,0),(2,0),(2,3),(3,2),(3,0)]\n",
    "\n",
    "edge_list1 = list(map(lambda x, y:(x,y), edge_list[0], edge_list[1]))\n",
    "\n",
    "# 6 Features for each node (4x6 - Number of nodes x NUmber of features)\n",
    "\n",
    "node_features = [\n",
    "                  [-8, 1, 5, 8, 2, -3], # Features of Node 0\n",
    "                  [-1, 0, 2, -3, 0, 1], # Features of Node 1\n",
    "                  [1, -1, 0, -1, 2, 1], # Features of Node 2\n",
    "                  [0, 1, 4, -2, 3, 4], # Features of Node 3\n",
    "                ]\n",
    "\n",
    "# 1 Weight for each edge \n",
    "\n",
    "edge_weight = [\n",
    "                [35.], # Weight for nodes (0,1)\n",
    "                [48.], # Weight for nodes (0,2)\n",
    "                [12.], # Weight for nodes (0,3)\n",
    "                [10.], # Weight for nodes (1,0)\n",
    "                [70.], # Weight for nodes (2,0)\n",
    "                [5.], # Weight for nodes (2,3)\n",
    "                [15.], # Weight for nodes (3,2)\n",
    "                [8.], # Weight for nodes (3,0)   \n",
    "              ]\n",
    "\n",
    "# Make a graph instance to store graph informaiton \n",
    "\n",
    "graph =tfg.Graph(x=node_features, edge_index=edge_list1, edge_weight=edge_weight)\n",
    "\n",
    "\n",
    "\" Print the graph info \"\n",
    "print(\"Number of nodes: \", graph.num_nodes)\n",
    "print(\"Number of edges: \",graph.num_edges)\n",
    "print(\"Number of features per node (Length of feature vector): \", graph.num_features,\"\\n\")\n",
    "\n",
    "\n",
    "\" Plot the graph \"\n",
    "# This graph has directed edges, therefore use 'nx.DiGraph()' for undirected edges use 'nx.Graph()'\n",
    "\n",
    "G = nx.DiGraph()\n",
    "G.add_nodes_from(range(0,graph.num_nodes))\n",
    "G.add_edges_from(graph.edge_index)\n",
    "nx.draw_networkx(G)\n"
   ]
  }
 ],
 "metadata": {
  "colab": {
   "collapsed_sections": [],
   "name": "Basic_Graph_Reprentation_with_Tensorflow.ipynb",
   "provenance": []
  },
  "kernelspec": {
   "display_name": "Python 3",
   "language": "python",
   "name": "python3"
  },
  "language_info": {
   "codemirror_mode": {
    "name": "ipython",
    "version": 3
   },
   "file_extension": ".py",
   "mimetype": "text/x-python",
   "name": "python",
   "nbconvert_exporter": "python",
   "pygments_lexer": "ipython3",
   "version": "3.8.5"
  }
 },
 "nbformat": 4,
 "nbformat_minor": 4
}
