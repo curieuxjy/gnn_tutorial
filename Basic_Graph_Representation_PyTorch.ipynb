{
 "cells": [
  {
   "cell_type": "markdown",
   "metadata": {
    "colab": {
     "base_uri": "https://localhost:8080/"
    },
    "id": "KwrAFWcMWFx-",
    "jupyter": {
     "outputs_hidden": true
    },
    "outputId": "c1ec1d7d-8a3c-4473-9102-bdeea92a88aa",
    "tags": []
   },
   "source": [
    "# Basic Graph Representation with PyTorch and NetworkX"
   ]
  },
  {
   "cell_type": "code",
   "execution_count": 1,
   "metadata": {},
   "outputs": [],
   "source": [
    "# !pip3 install torch torchvision torchaudio\n",
    "# !pip install torch-scatter torch-sparse -f https://data.pyg.org/whl/torch-1.11.0+cpu.html\n",
    "# !pip install torch_geometric"
   ]
  },
  {
   "cell_type": "code",
   "execution_count": 2,
   "metadata": {},
   "outputs": [
    {
     "name": "stdout",
     "output_type": "stream",
     "text": [
      "/bin/bash: torch: command not found\n",
      "ERROR: Pipe to stdout was broken\n",
      "Exception ignored in: <_io.TextIOWrapper name='<stdout>' mode='w' encoding='utf-8'>\n",
      "BrokenPipeError: [Errno 32] Broken pipe\n"
     ]
    }
   ],
   "source": [
    "!pip list grep | torch"
   ]
  },
  {
   "cell_type": "code",
   "execution_count": 3,
   "metadata": {
    "colab": {
     "base_uri": "https://localhost:8080/",
     "height": 375
    },
    "id": "N9ibgmvzVM8a",
    "outputId": "ad95cf65-4839-490a-ffe6-03384f25ee8b"
   },
   "outputs": [
    {
     "name": "stderr",
     "output_type": "stream",
     "text": [
      "/home/jungyeon/anaconda3/envs/gnn/lib/python3.8/site-packages/tqdm/auto.py:22: TqdmWarning: IProgress not found. Please update jupyter and ipywidgets. See https://ipywidgets.readthedocs.io/en/stable/user_install.html\n",
      "  from .autonotebook import tqdm as notebook_tqdm\n",
      "/home/jungyeon/anaconda3/envs/gnn/lib/python3.8/site-packages/torch/cuda/__init__.py:52: UserWarning: CUDA initialization: CUDA unknown error - this may be due to an incorrectly set up environment, e.g. changing env variable CUDA_VISIBLE_DEVICES after program start. Setting the available devices to be zero. (Triggered internally at  /pytorch/c10/cuda/CUDAFunctions.cpp:109.)\n",
      "  return torch._C._cuda_getDeviceCount() > 0\n",
      "/tmp/ipykernel_827673/3766612090.py:26: DeprecationWarning: an integer is required (got type float).  Implicit conversion to integers using __int__ is deprecated, and may be removed in a future version of Python.\n",
      "  edge_weight = torch.tensor([\n"
     ]
    },
    {
     "name": "stdout",
     "output_type": "stream",
     "text": [
      "Number of nodes:  4\n",
      "Number of edges:  8\n",
      "Number of features per node (Length of feature vector):  6 \n",
      "\n",
      "Number of weights per edge (edge-features):  1 \n",
      "\n"
     ]
    },
    {
     "data": {
      "image/png": "[encoded data removed]",
      "text/plain": [
       "<Figure size 432x288 with 1 Axes>"
      ]
     },
     "metadata": {},
     "output_type": "display_data"
    }
   ],
   "source": [
    "import torch\n",
    "import torch_geometric\n",
    "import torch_sparse\n",
    "from torch_geometric.data import Data\n",
    "import networkx as nx\n",
    "from torch_geometric.utils.convert import to_networkx\n",
    "\" Define a graph \"\n",
    "\n",
    "# a graph with 4 nodes\n",
    "edge_list = torch.tensor([\n",
    "                         [0, 0, 0, 1, 2, 2, 3, 3], # Source Nodes\n",
    "                         [1, 2, 3, 0, 0, 3, 2, 0]  # Target Nodes\n",
    "                        ], dtype=torch.long)\n",
    "\n",
    "# 6 Features for each node (4x6 - Number of nodes x NUmber of features)\n",
    "\n",
    "node_features = torch.tensor([\n",
    "                            [-8, 1, 5, 8, 2, -3], # Features of Node 0\n",
    "                            [-1, 0, 2, -3, 0, 1], # Features of Node 1\n",
    "                            [1, -1, 0, -1, 2, 1], # Features of Node 2\n",
    "                            [0, 1, 4, -2, 3, 4], # Features of Node 3\n",
    "                            ],dtype=torch.long)\n",
    "\n",
    "# 1 Weight for each edge \n",
    "\n",
    "edge_weight = torch.tensor([\n",
    "                            [35.], # Weight for nodes (0,1)\n",
    "                            [48.], # Weight for nodes (0,2)\n",
    "                            [12.], # Weight for nodes (0,3)\n",
    "                            [10.], # Weight for nodes (1,0)\n",
    "                            [70.], # Weight for nodes (2,0)\n",
    "                            [5.], # Weight for nodes (2,3)\n",
    "                            [15.], # Weight for nodes (3,2)\n",
    "                            [8.], # Weight for nodes (3,0)   \n",
    "                            ],dtype=torch.long)\n",
    "\n",
    "# Make a data object to store graph informaiton \n",
    "data = Data(x=node_features, edge_index=edge_list, edge_attr=edge_weight)\n",
    "\n",
    "\n",
    "\" Print the graph info \"\n",
    "print(\"Number of nodes: \", data.num_nodes)\n",
    "print(\"Number of edges: \",data.num_edges)\n",
    "print(\"Number of features per node (Length of feature vector): \", data.num_node_features,\"\\n\")\n",
    "print(\"Number of weights per edge (edge-features): \", data.num_edge_features, \"\\n\")\n",
    "\n",
    "\n",
    "\n",
    "\n",
    "\" Plot the graph \"\n",
    "\n",
    "G = to_networkx(data)\n",
    "nx.draw_networkx(G)\n"
   ]
  },
  {
   "cell_type": "code",
   "execution_count": null,
   "metadata": {},
   "outputs": [],
   "source": []
  }
 ],
 "metadata": {
  "colab": {
   "name": "Basic Graph Reprentation iwth PyTorch.ipynb",
   "provenance": []
  },
  "kernelspec": {
   "display_name": "Python 3 (ipykernel)",
   "language": "python",
   "name": "python3"
  },
  "language_info": {
   "codemirror_mode": {
    "name": "ipython",
    "version": 3
   },
   "file_extension": ".py",
   "mimetype": "text/x-python",
   "name": "python",
   "nbconvert_exporter": "python",
   "pygments_lexer": "ipython3",
   "version": "3.8.0"
  }
 },
 "nbformat": 4,
 "nbformat_minor": 4
}
