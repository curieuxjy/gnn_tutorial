{
 "cells": [
  {
   "cell_type": "code",
   "execution_count": 1,
   "id": "62d9c656-7e1e-4ad7-9ac3-7297c62b3c64",
   "metadata": {},
   "outputs": [],
   "source": [
    "## PyTorch\n",
    "import torch\n",
    "import torch.nn as nn\n",
    "import torch.nn.functional as F\n",
    "import torch.utils.data as data\n",
    "from torch_geometric.data import Data\n",
    "import torch.optim as optim\n",
    "import networkx as nx\n",
    "from torch_geometric.utils.convert import to_networkx\n"
   ]
  },
  {
   "cell_type": "code",
   "execution_count": 2,
   "id": "3d982688-bf80-427a-8b45-fe78594e49b4",
   "metadata": {},
   "outputs": [],
   "source": [
    "# a graph with 4 nodes\n",
    "edge_list = torch.tensor([\n",
    "                         [0, 1, 1, 1, 2, 2, 3, 3], # Source Nodes\n",
    "                         [1, 0, 2, 3, 1, 3, 1, 2]  # Target Nodes\n",
    "                        ], dtype=torch.long)\n",
    "\n",
    "# 6 Features for each node (4x6 - Number of nodes x NUmber of features)\n",
    "\n",
    "node_features = torch.tensor([\n",
    "                            [0,1], # Features of Node 0\n",
    "                            [2,3], # Features of Node 1\n",
    "                            [4,5], # Features of Node 2\n",
    "                            [6,7], # Features of Node 3\n",
    "                            ],dtype=torch.long)"
   ]
  },
  {
   "cell_type": "code",
   "execution_count": 3,
   "id": "a9d6579f-c5f3-4789-8bde-0dedfdd0ab89",
   "metadata": {},
   "outputs": [
    {
     "data": {
      "image/png": "[encoded data removed]",
      "text/plain": [
       "<Figure size 432x288 with 1 Axes>"
      ]
     },
     "metadata": {},
     "output_type": "display_data"
    }
   ],
   "source": [
    "data = Data(x=node_features, edge_index=edge_list)\n",
    "G = to_networkx(data)\n",
    "nx.draw_networkx(G)"
   ]
  },
  {
   "cell_type": "markdown",
   "id": "543529dc-f470-4f39-a51c-e48ab5fa237a",
   "metadata": {},
   "source": [
    "# Our first convolution"
   ]
  },
  {
   "cell_type": "markdown",
   "id": "cf36bc7d-8fc7-4a5e-8e52-3de31da8560c",
   "metadata": {},
   "source": [
    "The convolution to be implemented, based on th GCN-Filter: Simplified Cheby-Filter involving 1-Hop Neighbors\n",
    "![Convolution](convolution.png)\n",
    "\n",
    "where g can be any arbitrary activation function (for simplicity we will skip the activation function)"
   ]
  },
  {
   "cell_type": "code",
   "execution_count": 4,
   "id": "7c2d45b5-8c3c-4be8-aeb8-367b09c02031",
   "metadata": {},
   "outputs": [
    {
     "name": "stdout",
     "output_type": "stream",
     "text": [
      "Node features:\n",
      " tensor([[[0., 1.],\n",
      "         [2., 3.],\n",
      "         [4., 5.],\n",
      "         [6., 7.]]])\n",
      "\n",
      "Adjacency matrix:\n",
      " tensor([[[1., 1., 0., 0.],\n",
      "         [1., 1., 1., 1.],\n",
      "         [0., 1., 1., 1.],\n",
      "         [0., 1., 1., 1.]]])\n"
     ]
    }
   ],
   "source": [
    "node_features = torch.arange(8, dtype=torch.float32).view(1, 4, 2)\n",
    "adj_matrix = torch.Tensor([[[1, 1, 0, 0],\n",
    "                            [1, 1, 1, 1],\n",
    "                            [0, 1, 1, 1],\n",
    "                            [0, 1, 1, 1]]])\n",
    "\n",
    "print(\"Node features:\\n\", node_features)\n",
    "print(\"\\nAdjacency matrix:\\n\", adj_matrix)"
   ]
  },
  {
   "cell_type": "code",
   "execution_count": 5,
   "id": "e1b83c57-f744-43f1-9aef-f11f844124da",
   "metadata": {},
   "outputs": [],
   "source": [
    "## Source: https://uvadlc-notebooks.readthedocs.io/en/latest/tutorial_notebooks/tutorial7/GNN_overview.html\n",
    "class SimpleConvolution(nn.Module): \n",
    "\n",
    "    def __init__(self, c_in, c_out):\n",
    "        super().__init__()\n",
    "        self.projection = nn.Linear(c_in, c_out) ##  y=xAT+b\n",
    "\n",
    "    def forward(self, node_features, adj_matrix):\n",
    "        \"\"\"\n",
    "        Inputs:\n",
    "            node_features - Tensor with node features of shape [batch_size, num_nodes, c_in]\n",
    "            adj_matrix - Batch of adjacency matrices of the graph. If there is an edge from i to j, adj_matrix[b,i,j]=1 else 0.\n",
    "                         Supports directed edges by non-symmetric matrices. Assumes to already have added the identity connections.\n",
    "                         Shape: [batch_size, num_nodes, num_nodes]\n",
    "        \"\"\"\n",
    "        # Num neighbours = number of incoming edges\n",
    "        num_neighbours = adj_matrix.sum(dim=-1, keepdims=True)\n",
    "        print(\"Number of neighbors per node:\", num_neighbours)\n",
    "        node_features = self.projection(node_features) ## HW\n",
    "        node_features = torch.bmm(adj_matrix, node_features) # Matrix multiplication between A (Adjacent Matrix) and HW (note features)\n",
    "        node_features = node_features / num_neighbours \n",
    "        return node_features"
   ]
  },
  {
   "cell_type": "code",
   "execution_count": 6,
   "id": "602b2653-cd6e-4b7f-a523-eb52a6a9190f",
   "metadata": {},
   "outputs": [
    {
     "name": "stdout",
     "output_type": "stream",
     "text": [
      "Number of neighbors per node: tensor([[[2.],\n",
      "         [4.],\n",
      "         [3.],\n",
      "         [3.]]])\n",
      "Adjacency matrix tensor([[[1., 1., 0., 0.],\n",
      "         [1., 1., 1., 1.],\n",
      "         [0., 1., 1., 1.],\n",
      "         [0., 1., 1., 1.]]])\n",
      "Input features tensor([[[0., 1.],\n",
      "         [2., 3.],\n",
      "         [4., 5.],\n",
      "         [6., 7.]]])\n",
      "Output features tensor([[[1., 2.],\n",
      "         [3., 4.],\n",
      "         [4., 5.],\n",
      "         [4., 5.]]])\n"
     ]
    }
   ],
   "source": [
    "layer = SimpleConvolution(c_in=2, c_out=2)\n",
    "layer.projection.weight.data = torch.Tensor([[1., 0.], [0., 1.]]) #Initialized the weigths to the identity matrix to let us validate the code. \n",
    "layer.projection.bias.data = torch.Tensor([0., 0.]) #bias term equal to zero\n",
    "\n",
    "with torch.no_grad():\n",
    "    out_features = layer(node_features, adj_matrix)\n",
    "\n",
    "print(\"Adjacency matrix\", adj_matrix)\n",
    "print(\"Input features\", node_features)\n",
    "print(\"Output features\", out_features)\n"
   ]
  },
  {
   "cell_type": "markdown",
   "id": "194921be-77cc-47df-94b0-62d6482775b1",
   "metadata": {},
   "source": [
    "## Final remarks\n",
    "\n",
    "1. This can be seeing as the aggregation of 1-hop neighbors\n",
    "2. We can stack this type of convolution to aggregate information from k-hop neighbors\n",
    "3. We need to be careful because k increases the inputs of a node overlap with other nodes, smoothing too much the result"
   ]
  }
 ],
 "metadata": {
  "kernelspec": {
   "display_name": "Python 3 (ipykernel)",
   "language": "python",
   "name": "python3"
  },
  "language_info": {
   "codemirror_mode": {
    "name": "ipython",
    "version": 3
   },
   "file_extension": ".py",
   "mimetype": "text/x-python",
   "name": "python",
   "nbconvert_exporter": "python",
   "pygments_lexer": "ipython3",
   "version": "3.8.0"
  }
 },
 "nbformat": 4,
 "nbformat_minor": 5
}
